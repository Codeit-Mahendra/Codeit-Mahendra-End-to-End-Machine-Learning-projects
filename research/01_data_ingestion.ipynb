{
 "cells": [
  {
   "cell_type": "code",
   "execution_count": 33,
   "id": "13b60c43",
   "metadata": {},
   "outputs": [],
   "source": [
    "import os"
   ]
  },
  {
   "cell_type": "code",
   "execution_count": null,
   "id": "bd669b4b",
   "metadata": {},
   "outputs": [],
   "source": []
  },
  {
   "cell_type": "code",
   "execution_count": 34,
   "id": "c922898b",
   "metadata": {},
   "outputs": [
    {
     "data": {
      "text/plain": [
       "'e:\\\\7. ML practise Daily\\\\7. GEN AI'"
      ]
     },
     "execution_count": 34,
     "metadata": {},
     "output_type": "execute_result"
    }
   ],
   "source": [
    "%pwd"
   ]
  },
  {
   "cell_type": "code",
   "execution_count": 35,
   "id": "6e3f6b8d",
   "metadata": {},
   "outputs": [],
   "source": [
    "os.chdir(\"../\")"
   ]
  },
  {
   "cell_type": "code",
   "execution_count": 36,
   "id": "8cb737d8",
   "metadata": {},
   "outputs": [
    {
     "data": {
      "text/plain": [
       "'e:\\\\7. ML practise Daily'"
      ]
     },
     "execution_count": 36,
     "metadata": {},
     "output_type": "execute_result"
    }
   ],
   "source": [
    "%pwd"
   ]
  },
  {
   "cell_type": "code",
   "execution_count": 37,
   "id": "22fd1fcf",
   "metadata": {},
   "outputs": [],
   "source": [
    "from dataclasses import dataclass\n",
    "from pathlib import Path\n",
    "\n",
    "\n",
    "@dataclass(frozen=True)\n",
    "class DataIngestionConfig:\n",
    "    root_dir: Path\n",
    "    source_URL: str\n",
    "    local_data_file: Path\n",
    "    unzip_dir: Path"
   ]
  },
  {
   "cell_type": "code",
   "execution_count": 38,
   "id": "7df7e3ee",
   "metadata": {},
   "outputs": [],
   "source": [
    "from src.mlProject.constants import *\n",
    "from src.mlProject.utils.common import read_yaml, create_directories"
   ]
  },
  {
   "cell_type": "code",
   "execution_count": 39,
   "id": "eafda04f",
   "metadata": {},
   "outputs": [],
   "source": [
    "class ConfigurationManager:\n",
    "    def __init__(\n",
    "        self,\n",
    "        config_filepath = CONFIG_FILE_PATH,\n",
    "        params_filepath = PARAMS_FILE_PATH,\n",
    "        schema_filepath = SCHEMA_FILE_PATH):\n",
    "\n",
    "        self.config = read_yaml(config_filepath)\n",
    "        self.params = read_yaml(params_filepath)\n",
    "        self.schema = read_yaml(schema_filepath)\n",
    "\n",
    "        create_directories([self.config.artifacts_root])\n",
    "\n",
    "\n",
    "    def get_data_ingestion_config(self) -> DataIngestionConfig:\n",
    "        config = self.config.data_ingestion\n",
    "\n",
    "        create_directories([config.root_dir])\n",
    "\n",
    "        data_ingestion_config = DataIngestionConfig(\n",
    "            root_dir=config.root_dir,\n",
    "            source_URL=config.source_URL,\n",
    "            local_data_file=config.local_data_file,\n",
    "            unzip_dir=config.unzip_dir \n",
    "        )\n",
    "\n",
    "        return data_ingestion_config"
   ]
  },
  {
   "cell_type": "code",
   "execution_count": 40,
   "id": "63cc80fc",
   "metadata": {},
   "outputs": [],
   "source": [
    "# # Cell 1: Setup imports\n",
    "# import sys\n",
    "# import os\n",
    "\n",
    "# # Get the project root (adjust path based on your notebook location)\n",
    "# project_root = os.path.abspath(os.path.join(os.getcwd(), \"..\"))\n",
    "# src_path = os.path.join(project_root, \"src\")\n",
    "\n",
    "# # Add to Python path\n",
    "# if src_path not in sys.path:\n",
    "#     sys.path.append(src_path)\n",
    "\n",
    "# print(\"Python path:\", sys.path)"
   ]
  },
  {
   "cell_type": "code",
   "execution_count": 41,
   "id": "f715c277",
   "metadata": {},
   "outputs": [],
   "source": [
    "# # Cell 2: Now import your modules\n",
    "# from mlProject import logger\n",
    "# from mlProject.utils.common import get_size\n",
    "\n",
    "# print(\"Imports successful!\")"
   ]
  },
  {
   "cell_type": "code",
   "execution_count": 42,
   "id": "24d720e0",
   "metadata": {},
   "outputs": [],
   "source": [
    "import os\n",
    "import urllib.request as request\n",
    "import zipfile\n",
    "from mlProject import logger\n",
    "from mlProject.utils.common import get_size"
   ]
  },
  {
   "cell_type": "code",
   "execution_count": 43,
   "id": "dc8fdef9",
   "metadata": {},
   "outputs": [],
   "source": [
    "class DataIngestion:\n",
    "    def __init__(self, config: DataIngestionConfig):\n",
    "        self.config = config\n",
    "\n",
    "\n",
    "    \n",
    "    def download_file(self):\n",
    "        if not os.path.exists(self.config.local_data_file):\n",
    "            filename, headers = request.urlretrieve(\n",
    "                url = self.config.source_URL,\n",
    "                filename = self.config.local_data_file\n",
    "            )\n",
    "            logger.info(f\"{filename} download! with following info: \\n{headers}\")\n",
    "        else:\n",
    "            logger.info(f\"File already exists of size: {get_size(Path(self.config.local_data_file))}\")\n",
    "\n",
    "\n",
    "\n",
    "    \n",
    "    def extract_zip_file(self):\n",
    "        \"\"\"\n",
    "        zip_file_path: str\n",
    "        Extracts the zip file into the data directory\n",
    "        Function returns None\n",
    "        \"\"\"\n",
    "        unzip_path = self.config.unzip_dir\n",
    "        os.makedirs(unzip_path, exist_ok=True)\n",
    "        with zipfile.ZipFile(self.config.local_data_file, 'r') as zip_ref:\n",
    "            zip_ref.extractall(unzip_path)"
   ]
  },
  {
   "cell_type": "code",
   "execution_count": 44,
   "id": "849bf13b",
   "metadata": {},
   "outputs": [
    {
     "name": "stdout",
     "output_type": "stream",
     "text": [
      "[2025-09-28 05:01:29,630: INFO: common: yaml file: e:\\7. ML practise Daily\\7. GEN AI\\10. End to End project\\config\\config.yaml loaded successfully]\n",
      "[2025-09-28 05:01:29,634: INFO: common: yaml file: e:\\7. ML practise Daily\\7. GEN AI\\10. End to End project\\params.yaml loaded successfully]\n",
      "[2025-09-28 05:01:29,647: INFO: common: yaml file: e:\\7. ML practise Daily\\7. GEN AI\\10. End to End project\\schema.yaml loaded successfully]\n",
      "[2025-09-28 05:01:29,653: INFO: common: created directory at: artifacts]\n",
      "[2025-09-28 05:01:29,655: INFO: common: created directory at: artifacts/data_ingestion]\n",
      "[2025-09-28 05:01:30,108: INFO: 3447005916: artifacts/data_ingestion/data.zip download! with following info: \n",
      "Connection: close\n",
      "Content-Length: 23329\n",
      "Cache-Control: max-age=300\n",
      "Content-Security-Policy: default-src 'none'; style-src 'unsafe-inline'; sandbox\n",
      "Content-Type: application/zip\n",
      "ETag: \"c69888a4ae59bc5a893392785a938ccd4937981c06ba8a9d6a21aa52b4ab5b6e\"\n",
      "Strict-Transport-Security: max-age=31536000\n",
      "X-Content-Type-Options: nosniff\n",
      "X-Frame-Options: deny\n",
      "X-XSS-Protection: 1; mode=block\n",
      "X-GitHub-Request-Id: ACBD:1EDC9B:23CA6E:5F6774:68D91F2B\n",
      "Accept-Ranges: bytes\n",
      "Date: Sun, 28 Sep 2025 12:01:32 GMT\n",
      "Via: 1.1 varnish\n",
      "X-Served-By: cache-bom-vanm7210058-BOM\n",
      "X-Cache: HIT\n",
      "X-Cache-Hits: 0\n",
      "X-Timer: S1759060893.770195,VS0,VE1\n",
      "Vary: Authorization,Accept-Encoding\n",
      "Access-Control-Allow-Origin: *\n",
      "Cross-Origin-Resource-Policy: cross-origin\n",
      "X-Fastly-Request-ID: cf17f6c55a9e17c0e707dd98cde9dc966110ccd7\n",
      "Expires: Sun, 28 Sep 2025 12:06:32 GMT\n",
      "Source-Age: 93\n",
      "\n",
      "]\n"
     ]
    }
   ],
   "source": [
    "try:\n",
    "    config = ConfigurationManager()\n",
    "    data_ingestion_config = config.get_data_ingestion_config()\n",
    "    data_ingestion = DataIngestion(config=data_ingestion_config)\n",
    "    data_ingestion.download_file()\n",
    "    data_ingestion.extract_zip_file()\n",
    "\n",
    "except Exception as e:\n",
    "    logger.error(f\"Error: {e}\")"
   ]
  },
  {
   "cell_type": "code",
   "execution_count": 45,
   "id": "1afe3d43",
   "metadata": {},
   "outputs": [
    {
     "name": "stdout",
     "output_type": "stream",
     "text": [
      "[2025-09-28 05:01:30,175: INFO: common: yaml file: e:\\7. ML practise Daily\\7. GEN AI\\10. End to End project\\config\\config.yaml loaded successfully]\n",
      "[2025-09-28 05:01:30,179: INFO: common: yaml file: e:\\7. ML practise Daily\\7. GEN AI\\10. End to End project\\params.yaml loaded successfully]\n",
      "[2025-09-28 05:01:30,188: INFO: common: yaml file: e:\\7. ML practise Daily\\7. GEN AI\\10. End to End project\\schema.yaml loaded successfully]\n",
      "[2025-09-28 05:01:30,192: INFO: common: created directory at: artifacts]\n"
     ]
    }
   ],
   "source": [
    "from src.mlProject.constants import * # This will now import the correct absolute paths: CONFIG_FILE_PATH, PARAMS_FILE_PATH, etc.\n",
    "\n",
    "try:\n",
    "    # ConfigurationManager will now use the correct absolute path from the import\n",
    "    config = ConfigurationManager() \n",
    "    # ... rest of your code\n",
    "except Exception as e:\n",
    "    raise e"
   ]
  },
  {
   "cell_type": "code",
   "execution_count": null,
   "id": "98a77360",
   "metadata": {},
   "outputs": [],
   "source": []
  }
 ],
 "metadata": {
  "kernelspec": {
   "display_name": "ML_Work",
   "language": "python",
   "name": "python3"
  },
  "language_info": {
   "codemirror_mode": {
    "name": "ipython",
    "version": 3
   },
   "file_extension": ".py",
   "mimetype": "text/x-python",
   "name": "python",
   "nbconvert_exporter": "python",
   "pygments_lexer": "ipython3",
   "version": "3.10.18"
  }
 },
 "nbformat": 4,
 "nbformat_minor": 5
}
